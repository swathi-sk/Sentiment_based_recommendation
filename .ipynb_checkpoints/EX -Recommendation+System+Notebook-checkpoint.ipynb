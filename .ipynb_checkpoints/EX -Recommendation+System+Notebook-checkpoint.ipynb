{
 "cells": [
  {
   "cell_type": "markdown",
   "metadata": {
    "id": "PQpJLewaExc5"
   },
   "source": [
    "# Recommendation System Notebook\n",
    "- User based recommendation\n",
    "- User based prediction & evaluation\n",
    "- Item based recommendation\n",
    "- Item based prediction & evaluation"
   ]
  },
  {
   "cell_type": "markdown",
   "metadata": {
    "id": "e_mRKDXIYF4e"
   },
   "source": [
    "Different Approaches to develop Recommendation System -\n",
    "\n",
    "1. Demographich based Recommendation System\n",
    "\n",
    "2. Content Based Recommendation System\n",
    "\n",
    "3. Collaborative filtering Recommendation System"
   ]
  },
  {
   "cell_type": "code",
   "execution_count": 1,
   "metadata": {
    "id": "Vze08MDYExc_"
   },
   "outputs": [],
   "source": [
    "# import libraties\n",
    "import pandas as pd\n",
    "import numpy as np\n",
    "import matplotlib.pyplot as plt"
   ]
  },
  {
   "cell_type": "code",
   "execution_count": 2,
   "metadata": {
    "id": "624Z4KUlHoeZ"
   },
   "outputs": [
    {
     "data": {
      "text/html": [
       "<div>\n",
       "<style scoped>\n",
       "    .dataframe tbody tr th:only-of-type {\n",
       "        vertical-align: middle;\n",
       "    }\n",
       "\n",
       "    .dataframe tbody tr th {\n",
       "        vertical-align: top;\n",
       "    }\n",
       "\n",
       "    .dataframe thead th {\n",
       "        text-align: right;\n",
       "    }\n",
       "</style>\n",
       "<table border=\"1\" class=\"dataframe\">\n",
       "  <thead>\n",
       "    <tr style=\"text-align: right;\">\n",
       "      <th></th>\n",
       "      <th>userId</th>\n",
       "      <th>movieId</th>\n",
       "      <th>rating</th>\n",
       "      <th>timestamp</th>\n",
       "    </tr>\n",
       "  </thead>\n",
       "  <tbody>\n",
       "    <tr>\n",
       "      <th>0</th>\n",
       "      <td>1</td>\n",
       "      <td>296</td>\n",
       "      <td>5.0</td>\n",
       "      <td>1147880044</td>\n",
       "    </tr>\n",
       "    <tr>\n",
       "      <th>1</th>\n",
       "      <td>1</td>\n",
       "      <td>306</td>\n",
       "      <td>3.5</td>\n",
       "      <td>1147868817</td>\n",
       "    </tr>\n",
       "    <tr>\n",
       "      <th>2</th>\n",
       "      <td>1</td>\n",
       "      <td>307</td>\n",
       "      <td>5.0</td>\n",
       "      <td>1147868828</td>\n",
       "    </tr>\n",
       "    <tr>\n",
       "      <th>3</th>\n",
       "      <td>1</td>\n",
       "      <td>665</td>\n",
       "      <td>5.0</td>\n",
       "      <td>1147878820</td>\n",
       "    </tr>\n",
       "    <tr>\n",
       "      <th>4</th>\n",
       "      <td>1</td>\n",
       "      <td>899</td>\n",
       "      <td>3.5</td>\n",
       "      <td>1147868510</td>\n",
       "    </tr>\n",
       "  </tbody>\n",
       "</table>\n",
       "</div>"
      ],
      "text/plain": [
       "   userId  movieId  rating   timestamp\n",
       "0       1      296     5.0  1147880044\n",
       "1       1      306     3.5  1147868817\n",
       "2       1      307     5.0  1147868828\n",
       "3       1      665     5.0  1147878820\n",
       "4       1      899     3.5  1147868510"
      ]
     },
     "execution_count": 2,
     "metadata": {},
     "output_type": "execute_result"
    }
   ],
   "source": [
    "# Reading ratings file from GitHub. # MovieLens\n",
    "ratings = pd.read_csv('https://raw.githubusercontent.com/antrikshsaxena/NLPCapstone/main/ratings_final.csv' , encoding='latin-1')\n",
    "ratings.head()"
   ]
  },
  {
   "cell_type": "markdown",
   "metadata": {
    "id": "VGRnMjUFExdB"
   },
   "source": [
    "## Dividing the dataset into train and test"
   ]
  },
  {
   "cell_type": "code",
   "execution_count": null,
   "metadata": {
    "id": "yW5T0yiYExdB"
   },
   "outputs": [],
   "source": [
    "# Test and Train split of the dataset.\n",
    "from sklearn.model_selection import train_test_split\n",
    "train, test = train_test_split(ratings, test_size=0.30, random_state=31)"
   ]
  },
  {
   "cell_type": "code",
   "execution_count": null,
   "metadata": {
    "id": "zJFq41WVExdB"
   },
   "outputs": [],
   "source": [
    "print(train.shape)\n",
    "print(test.shape)"
   ]
  },
  {
   "cell_type": "code",
   "execution_count": null,
   "metadata": {
    "id": "8mCE__XgExdC"
   },
   "outputs": [],
   "source": [
    "# Pivot the train ratings' dataset into matrix format in which columns are movies and the rows are user IDs.\n",
    "df_pivot = train.pivot(\n",
    "    index='userId',\n",
    "    columns='movieId',\n",
    "    values='rating'\n",
    ").fillna(0)\n",
    "\n",
    "df_pivot.head(3)"
   ]
  },
  {
   "cell_type": "markdown",
   "metadata": {
    "id": "Gc8gJh-YExdC"
   },
   "source": [
    "### Creating dummy train & dummy test dataset\n",
    "These dataset will be used for prediction \n",
    "- Dummy train will be used later for prediction of the movies which has not been rated by the user. To ignore the movies rated by the user, we will mark it as 0 during prediction. The movies not rated by user is marked as 1 for prediction in dummy train dataset. \n",
    "\n",
    "- Dummy test will be used for evaluation. To evaluate, we will only make prediction on the movies rated by the user. So, this is marked as 1. This is just opposite of dummy_train."
   ]
  },
  {
   "cell_type": "code",
   "execution_count": null,
   "metadata": {
    "id": "zttrkghGExdD"
   },
   "outputs": [],
   "source": [
    "# Copy the train dataset into dummy_train\n",
    "dummy_train = train.copy()"
   ]
  },
  {
   "cell_type": "code",
   "execution_count": null,
   "metadata": {
    "id": "3G4s9lvVExdD"
   },
   "outputs": [],
   "source": [
    "# The movies not rated by user is marked as 1 for prediction. \n",
    "dummy_train['rating'] = dummy_train['rating'].apply(lambda x: 0 if x>=1 else 1)"
   ]
  },
  {
   "cell_type": "code",
   "execution_count": null,
   "metadata": {
    "id": "UFSn3np7ExdD"
   },
   "outputs": [],
   "source": [
    "# Convert the dummy train dataset into matrix format.\n",
    "dummy_train = dummy_train.pivot(\n",
    "    index='userId',\n",
    "    columns='movieId',\n",
    "    values='rating'\n",
    ").fillna(1)"
   ]
  },
  {
   "cell_type": "code",
   "execution_count": null,
   "metadata": {
    "id": "Of3c1dioExdD"
   },
   "outputs": [],
   "source": [
    "dummy_train.head()"
   ]
  },
  {
   "cell_type": "markdown",
   "metadata": {
    "id": "UXqgMNIjfQ2-"
   },
   "source": [
    "**Cosine Similarity**\n",
    "\n",
    "Cosine Similarity is a measurement that quantifies the similarity between two vectors [Which is Rating Vector in this case] \n",
    "\n",
    "**Adjusted Cosine**\n",
    "\n",
    "Adjusted cosine similarity is a modified version of vector-based similarity where we incorporate the fact that different users have different ratings schemes. In other words, some users might rate items highly in general, and others might give items lower ratings as a preference. To handle this nature from rating given by user , we subtract average ratings for each user from each user's rating for different movies.\n",
    "\n"
   ]
  },
  {
   "cell_type": "markdown",
   "metadata": {
    "id": "1g14byvoExdE"
   },
   "source": [
    "# User Similarity Matrix"
   ]
  },
  {
   "cell_type": "markdown",
   "metadata": {
    "id": "xCN3f1X0ExdE"
   },
   "source": [
    "## Using Cosine Similarity"
   ]
  },
  {
   "cell_type": "code",
   "execution_count": null,
   "metadata": {
    "id": "AerlX5jdExdE"
   },
   "outputs": [],
   "source": [
    "from sklearn.metrics.pairwise import pairwise_distances\n",
    "\n",
    "# Creating the User Similarity Matrix using pairwise_distance function.\n",
    "user_correlation = 1 - pairwise_distances(df_pivot, metric='cosine')\n",
    "user_correlation[np.isnan(user_correlation)] = 0\n",
    "print(user_correlation)"
   ]
  },
  {
   "cell_type": "code",
   "execution_count": null,
   "metadata": {
    "id": "5EA6M0wUExdF"
   },
   "outputs": [],
   "source": [
    "user_correlation.shape"
   ]
  },
  {
   "cell_type": "markdown",
   "metadata": {
    "id": "UqRArQEDExdF"
   },
   "source": [
    "## Using adjusted Cosine "
   ]
  },
  {
   "cell_type": "markdown",
   "metadata": {
    "id": "oP9vrfQuExdF"
   },
   "source": [
    "### Here, we are not removing the NaN values and calculating the mean only for the movies rated by the user"
   ]
  },
  {
   "cell_type": "code",
   "execution_count": null,
   "metadata": {
    "id": "NK8Z9wxKExdF"
   },
   "outputs": [],
   "source": [
    "# Create a user-movie matrix.\n",
    "df_pivot = train.pivot(\n",
    "    index='userId',\n",
    "    columns='movieId',\n",
    "    values='rating'\n",
    ")"
   ]
  },
  {
   "cell_type": "code",
   "execution_count": null,
   "metadata": {
    "id": "2M9VgXElExdG"
   },
   "outputs": [],
   "source": [
    "df_pivot.head()"
   ]
  },
  {
   "cell_type": "markdown",
   "metadata": {
    "id": "3xIwq2tEExdG"
   },
   "source": [
    "### Normalising the rating of the movie for each user around 0 mean"
   ]
  },
  {
   "cell_type": "code",
   "execution_count": null,
   "metadata": {
    "id": "iIPOrBJJExdG"
   },
   "outputs": [],
   "source": [
    "mean = np.nanmean(df_pivot, axis=1)\n",
    "df_subtracted = (df_pivot.T-mean).T"
   ]
  },
  {
   "cell_type": "code",
   "execution_count": null,
   "metadata": {
    "id": "YG9wWuF6ExdG"
   },
   "outputs": [],
   "source": [
    "df_subtracted.head()"
   ]
  },
  {
   "cell_type": "markdown",
   "metadata": {
    "id": "Hhn3tGtCExdG"
   },
   "source": [
    "### Finding cosine similarity"
   ]
  },
  {
   "cell_type": "code",
   "execution_count": null,
   "metadata": {
    "id": "cz9Mt3W0ExdH"
   },
   "outputs": [],
   "source": [
    "from sklearn.metrics.pairwise import pairwise_distances"
   ]
  },
  {
   "cell_type": "code",
   "execution_count": null,
   "metadata": {
    "id": "p6WRLBAIPd_k"
   },
   "outputs": [],
   "source": [
    "# Creating the User Similarity Matrix using pairwise_distance function.\n",
    "user_correlation = 1 - pairwise_distances(df_subtracted.fillna(0), metric='cosine')\n",
    "user_correlation[np.isnan(user_correlation)] = 0\n",
    "print(user_correlation)"
   ]
  },
  {
   "cell_type": "markdown",
   "metadata": {
    "id": "ZclauxcCExdH"
   },
   "source": [
    "## Prediction - User User"
   ]
  },
  {
   "cell_type": "markdown",
   "metadata": {
    "id": "1Gv7jXwsExdH"
   },
   "source": [
    "Doing the prediction for the users which are positively related with other users, and not the users which are negatively related as we are interested in the users which are more similar to the current users. So, ignoring the correlation for values less than 0. "
   ]
  },
  {
   "cell_type": "code",
   "execution_count": null,
   "metadata": {
    "id": "fY1304VMExdH"
   },
   "outputs": [],
   "source": [
    "user_correlation[user_correlation<0]=0\n",
    "user_correlation"
   ]
  },
  {
   "cell_type": "markdown",
   "metadata": {
    "id": "TjdiwJIzExdI"
   },
   "source": [
    "Rating predicted by the user (for movies rated as well as not rated) is the weighted sum of correlation with the movie rating (as present in the rating dataset). "
   ]
  },
  {
   "cell_type": "code",
   "execution_count": null,
   "metadata": {
    "id": "9OqMKQHSExdI"
   },
   "outputs": [],
   "source": [
    "user_predicted_ratings = np.dot(user_correlation, df_pivot.fillna(0))\n",
    "user_predicted_ratings"
   ]
  },
  {
   "cell_type": "code",
   "execution_count": null,
   "metadata": {
    "id": "M5ZIjVkQExdI"
   },
   "outputs": [],
   "source": [
    "user_predicted_ratings.shape"
   ]
  },
  {
   "cell_type": "markdown",
   "metadata": {
    "id": "w2WW_MKlExdI"
   },
   "source": [
    "Since we are interested only in the movies not rated by the user, we will ignore the movies rated by the user by making it zero. "
   ]
  },
  {
   "cell_type": "code",
   "execution_count": null,
   "metadata": {
    "id": "4MYZss5bExdI"
   },
   "outputs": [],
   "source": [
    "user_final_rating = np.multiply(user_predicted_ratings,dummy_train)\n",
    "user_final_rating.head()"
   ]
  },
  {
   "cell_type": "markdown",
   "metadata": {
    "id": "7W_Kr8N8ExdJ"
   },
   "source": [
    "### Finding the top 5 recommendation for the *user*"
   ]
  },
  {
   "cell_type": "code",
   "execution_count": null,
   "metadata": {
    "id": "WL8Yt7ZRSiev"
   },
   "outputs": [],
   "source": [
    "# Take the user ID as input.\n",
    "user_input = int(input(\"Enter your user name\"))\n",
    "print(user_input)"
   ]
  },
  {
   "cell_type": "code",
   "execution_count": null,
   "metadata": {
    "id": "PzZygPXjuN-a"
   },
   "outputs": [],
   "source": [
    "user_final_rating.head(2)"
   ]
  },
  {
   "cell_type": "code",
   "execution_count": null,
   "metadata": {
    "id": "B9KjLfI9ExdJ"
   },
   "outputs": [],
   "source": [
    "d = user_final_rating.loc[user_input].sort_values(ascending=False)[0:5]\n",
    "d"
   ]
  },
  {
   "cell_type": "code",
   "execution_count": null,
   "metadata": {
    "id": "q5vbgzTRFe_M"
   },
   "outputs": [],
   "source": [
    "#Mapping with Movie Title / Genres \n",
    "movie_mapping = pd.read_csv('https://raw.githubusercontent.com/antrikshsaxena/NLPCapstone/main/movies.csv')\n",
    "movie_mapping.head()"
   ]
  },
  {
   "cell_type": "code",
   "execution_count": null,
   "metadata": {
    "id": "WoyNBm8FwXYx"
   },
   "outputs": [],
   "source": [
    "d = pd.merge(d,movie_mapping,left_on='movieId',right_on='movieId', how = 'left')\n",
    "d.head()"
   ]
  },
  {
   "cell_type": "markdown",
   "metadata": {
    "id": "pV2YmSaHoflL"
   },
   "source": [
    "# Evaluation - User User "
   ]
  },
  {
   "cell_type": "markdown",
   "metadata": {
    "id": "Sv4DnzeboflU"
   },
   "source": [
    "Evaluation will we same as you have seen above for the prediction. The only difference being, you will evaluate for the movie already rated by the user insead of predicting it for the movie not rated by the user. "
   ]
  },
  {
   "cell_type": "code",
   "execution_count": null,
   "metadata": {
    "id": "jTAMAiCqoflV"
   },
   "outputs": [],
   "source": [
    "# Find out the common users of test and train dataset.\n",
    "common = test[test.userId.isin(train.userId)]\n",
    "common.shape"
   ]
  },
  {
   "cell_type": "code",
   "execution_count": null,
   "metadata": {
    "id": "sTMqgWYtoflV"
   },
   "outputs": [],
   "source": [
    "common.head()"
   ]
  },
  {
   "cell_type": "code",
   "execution_count": null,
   "metadata": {
    "id": "4IFpOTyeoflW"
   },
   "outputs": [],
   "source": [
    "# convert into the user-movie matrix.\n",
    "common_user_based_matrix = common.pivot_table(index='userId', columns='movieId', values='rating')"
   ]
  },
  {
   "cell_type": "code",
   "execution_count": null,
   "metadata": {
    "id": "SH7i0WFfoflW"
   },
   "outputs": [],
   "source": [
    "# Convert the user_correlation matrix into dataframe.\n",
    "user_correlation_df = pd.DataFrame(user_correlation)"
   ]
  },
  {
   "cell_type": "code",
   "execution_count": null,
   "metadata": {
    "id": "LWhAv35foflW"
   },
   "outputs": [],
   "source": [
    "df_subtracted.head(1)"
   ]
  },
  {
   "cell_type": "code",
   "execution_count": null,
   "metadata": {
    "id": "wDVHF9tkoflX"
   },
   "outputs": [],
   "source": [
    "user_correlation_df['userId'] = df_subtracted.index\n",
    "user_correlation_df.set_index('userId',inplace=True)\n",
    "user_correlation_df.head()"
   ]
  },
  {
   "cell_type": "code",
   "execution_count": null,
   "metadata": {
    "id": "K1LIYGngoflX"
   },
   "outputs": [],
   "source": [
    "common.head(1)"
   ]
  },
  {
   "cell_type": "code",
   "execution_count": null,
   "metadata": {
    "id": "vbVLc32woflX"
   },
   "outputs": [],
   "source": [
    "list_name = common.userId.tolist()\n",
    "\n",
    "user_correlation_df.columns = df_subtracted.index.tolist()\n",
    "\n",
    "\n",
    "user_correlation_df_1 =  user_correlation_df[user_correlation_df.index.isin(list_name)]"
   ]
  },
  {
   "cell_type": "code",
   "execution_count": null,
   "metadata": {
    "id": "Ip3u4ITFoflX"
   },
   "outputs": [],
   "source": [
    "user_correlation_df_1.shape"
   ]
  },
  {
   "cell_type": "code",
   "execution_count": null,
   "metadata": {
    "id": "THqWM0btoflX"
   },
   "outputs": [],
   "source": [
    "user_correlation_df_2 = user_correlation_df_1.T[user_correlation_df_1.T.index.isin(list_name)]"
   ]
  },
  {
   "cell_type": "code",
   "execution_count": null,
   "metadata": {
    "id": "sNtBboRooflY"
   },
   "outputs": [],
   "source": [
    "user_correlation_df_3 = user_correlation_df_2.T"
   ]
  },
  {
   "cell_type": "code",
   "execution_count": null,
   "metadata": {
    "id": "dMT2WTq9oflY"
   },
   "outputs": [],
   "source": [
    "user_correlation_df_3.head()"
   ]
  },
  {
   "cell_type": "code",
   "execution_count": null,
   "metadata": {
    "id": "9O2LDR78tiIw"
   },
   "outputs": [],
   "source": [
    "user_correlation_df_3.shape"
   ]
  },
  {
   "cell_type": "code",
   "execution_count": null,
   "metadata": {
    "id": "9CD6JjBVoflY"
   },
   "outputs": [],
   "source": [
    "user_correlation_df_3[user_correlation_df_3<0]=0\n",
    "\n",
    "common_user_predicted_ratings = np.dot(user_correlation_df_3, common_user_based_matrix.fillna(0))\n",
    "common_user_predicted_ratings"
   ]
  },
  {
   "cell_type": "code",
   "execution_count": null,
   "metadata": {
    "id": "Mbe5y3mWoflY"
   },
   "outputs": [],
   "source": [
    "dummy_test = common.copy()\n",
    "\n",
    "dummy_test['rating'] = dummy_test['rating'].apply(lambda x: 1 if x>=1 else 0)\n",
    "\n",
    "dummy_test = dummy_test.pivot_table(index='userId', columns='movieId', values='rating').fillna(0)"
   ]
  },
  {
   "cell_type": "code",
   "execution_count": null,
   "metadata": {
    "id": "jguea31yoflY"
   },
   "outputs": [],
   "source": [
    "dummy_test.shape"
   ]
  },
  {
   "cell_type": "code",
   "execution_count": null,
   "metadata": {
    "id": "mjBXh_z3oflZ"
   },
   "outputs": [],
   "source": [
    "common_user_predicted_ratings = np.multiply(common_user_predicted_ratings,dummy_test)"
   ]
  },
  {
   "cell_type": "code",
   "execution_count": null,
   "metadata": {
    "id": "h1GndCymoflZ"
   },
   "outputs": [],
   "source": [
    "common_user_predicted_ratings.head(2)"
   ]
  },
  {
   "cell_type": "markdown",
   "metadata": {
    "id": "emGudTfJoflZ"
   },
   "source": [
    "Calculating the RMSE for only the movies rated by user. For RMSE, normalising the rating to (1,5) range."
   ]
  },
  {
   "cell_type": "code",
   "execution_count": null,
   "metadata": {
    "id": "6hNEKDAwoflZ"
   },
   "outputs": [],
   "source": [
    "from sklearn.preprocessing import MinMaxScaler\n",
    "from numpy import *\n",
    "\n",
    "X  = common_user_predicted_ratings.copy() \n",
    "X = X[X>0]\n",
    "\n",
    "scaler = MinMaxScaler(feature_range=(1, 5))\n",
    "print(scaler.fit(X))\n",
    "y = (scaler.transform(X))\n",
    "\n",
    "print(y)"
   ]
  },
  {
   "cell_type": "code",
   "execution_count": null,
   "metadata": {
    "id": "Y-OYsB-4oflZ"
   },
   "outputs": [],
   "source": [
    "common_ = common.pivot_table(index='userId', columns='movieId', values='rating')"
   ]
  },
  {
   "cell_type": "code",
   "execution_count": null,
   "metadata": {
    "id": "aJRM9xMAofla"
   },
   "outputs": [],
   "source": [
    "# Finding total non-NaN value\n",
    "total_non_nan = np.count_nonzero(~np.isnan(y))"
   ]
  },
  {
   "cell_type": "code",
   "execution_count": null,
   "metadata": {
    "id": "dhnKWyazofla"
   },
   "outputs": [],
   "source": [
    "rmse = (sum(sum((common_ - y )**2))/total_non_nan)**0.5\n",
    "print(rmse)"
   ]
  },
  {
   "cell_type": "markdown",
   "metadata": {
    "id": "0SLeLKr5ofla"
   },
   "source": [
    "## Using Item similarity"
   ]
  },
  {
   "cell_type": "markdown",
   "metadata": {
    "id": "5pN2OrMVExdJ"
   },
   "source": [
    "# Item Based Similarity"
   ]
  },
  {
   "cell_type": "markdown",
   "metadata": {
    "id": "AQR5JcURExdJ"
   },
   "source": [
    "Taking the transpose of the rating matrix to normalize the rating around the mean for different movie ID. In the user based similarity, we had taken mean for each user instead of each movie. "
   ]
  },
  {
   "cell_type": "code",
   "execution_count": null,
   "metadata": {
    "id": "PuZ_rfmWExdK"
   },
   "outputs": [],
   "source": [
    "df_pivot = train.pivot(\n",
    "    index='userId',\n",
    "    columns='movieId',\n",
    "    values='rating'\n",
    ").T\n",
    "\n",
    "df_pivot.head()"
   ]
  },
  {
   "cell_type": "markdown",
   "metadata": {
    "id": "tXqVjcM8ExdK"
   },
   "source": [
    "Normalising the movie rating for each movie for using the Adujsted Cosine"
   ]
  },
  {
   "cell_type": "code",
   "execution_count": null,
   "metadata": {
    "id": "eZIvacU4ExdK"
   },
   "outputs": [],
   "source": [
    "mean = np.nanmean(df_pivot, axis=1)\n",
    "df_subtracted = (df_pivot.T-mean).T"
   ]
  },
  {
   "cell_type": "code",
   "execution_count": null,
   "metadata": {
    "id": "or2hisf6ExdK"
   },
   "outputs": [],
   "source": [
    "df_subtracted.head()"
   ]
  },
  {
   "cell_type": "markdown",
   "metadata": {
    "id": "_ddgngXvExdK"
   },
   "source": [
    "Finding the cosine similarity using pairwise distances approach"
   ]
  },
  {
   "cell_type": "code",
   "execution_count": null,
   "metadata": {
    "id": "6w_pMqFYExdL"
   },
   "outputs": [],
   "source": [
    "from sklearn.metrics.pairwise import pairwise_distances"
   ]
  },
  {
   "cell_type": "code",
   "execution_count": null,
   "metadata": {
    "id": "wvM0YMzqTD6Z"
   },
   "outputs": [],
   "source": [
    "# Item Similarity Matrix\n",
    "item_correlation = 1 - pairwise_distances(df_subtracted.fillna(0), metric='cosine')\n",
    "item_correlation[np.isnan(item_correlation)] = 0\n",
    "print(item_correlation)"
   ]
  },
  {
   "cell_type": "markdown",
   "metadata": {
    "id": "MGf62jf-ExdL"
   },
   "source": [
    "Filtering the correlation only for which the value is greater than 0. (Positively correlated)"
   ]
  },
  {
   "cell_type": "code",
   "execution_count": null,
   "metadata": {
    "id": "Ag8UtCCgExdL"
   },
   "outputs": [],
   "source": [
    "item_correlation[item_correlation<0]=0\n",
    "item_correlation"
   ]
  },
  {
   "cell_type": "markdown",
   "metadata": {
    "id": "UBVxQ8voExdL"
   },
   "source": [
    "# Prediction - Item Item"
   ]
  },
  {
   "cell_type": "code",
   "execution_count": null,
   "metadata": {
    "id": "vcj-e9_BExdL"
   },
   "outputs": [],
   "source": [
    "item_predicted_ratings = np.dot((df_pivot.fillna(0).T),item_correlation)\n",
    "item_predicted_ratings"
   ]
  },
  {
   "cell_type": "code",
   "execution_count": null,
   "metadata": {
    "id": "w_wMFJu7ExdM"
   },
   "outputs": [],
   "source": [
    "item_predicted_ratings.shape"
   ]
  },
  {
   "cell_type": "code",
   "execution_count": null,
   "metadata": {
    "id": "D-O03UlpExdM"
   },
   "outputs": [],
   "source": [
    "dummy_train.shape"
   ]
  },
  {
   "cell_type": "markdown",
   "metadata": {
    "id": "b7H4yJpaExdM"
   },
   "source": [
    "### Filtering the rating only for the movies not rated by the user for recommendation"
   ]
  },
  {
   "cell_type": "code",
   "execution_count": null,
   "metadata": {
    "id": "_AfkZebKExdM"
   },
   "outputs": [],
   "source": [
    "item_final_rating = np.multiply(item_predicted_ratings,dummy_train)\n",
    "item_final_rating.head()"
   ]
  },
  {
   "cell_type": "markdown",
   "metadata": {
    "id": "WPn1Dz8LExdM"
   },
   "source": [
    "### Finding the top 5 recommendation for the *user*\n",
    "\n"
   ]
  },
  {
   "cell_type": "code",
   "execution_count": null,
   "metadata": {
    "id": "tQZl7CAgUiSH"
   },
   "outputs": [],
   "source": [
    "# Take the user ID as input\n",
    "user_input = int(input(\"Enter your user name\"))\n",
    "print(user_input)"
   ]
  },
  {
   "cell_type": "code",
   "execution_count": null,
   "metadata": {
    "id": "-4T_IOaXUjXK"
   },
   "outputs": [],
   "source": [
    "# Recommending the Top 5 products to the user.\n",
    "d = item_final_rating.loc[user_input].sort_values(ascending=False)[0:5]\n",
    "d"
   ]
  },
  {
   "cell_type": "code",
   "execution_count": null,
   "metadata": {
    "id": "7uwU_WtwWoFO"
   },
   "outputs": [],
   "source": [
    "#Mapping with Movie Title / Genres \n",
    "movie_mapping = pd.read_csv('https://raw.githubusercontent.com/antrikshsaxena/NLPCapstone/main/movies.csv', encoding='latin-1')"
   ]
  },
  {
   "cell_type": "code",
   "execution_count": null,
   "metadata": {
    "id": "Tttoz7JrWYo2"
   },
   "outputs": [],
   "source": [
    "d = pd.merge(d,movie_mapping,left_on='movieId',right_on='movieId',how = 'left')\n",
    "d.head()"
   ]
  },
  {
   "cell_type": "code",
   "execution_count": null,
   "metadata": {
    "id": "fg2NiPS2ExdN"
   },
   "outputs": [],
   "source": [
    "train_new = pd.merge(train,movie_mapping,left_on='movieId',right_on='movieId',how='left')\n",
    "train_new[train_new.userId == 1] .head()"
   ]
  },
  {
   "cell_type": "markdown",
   "metadata": {
    "id": "jjg4AQbcExdN"
   },
   "source": [
    "# Evaluation - Item Item"
   ]
  },
  {
   "cell_type": "markdown",
   "metadata": {
    "id": "qtw9ebU1ExdN"
   },
   "source": [
    "Evaluation will we same as you have seen above for the prediction. The only difference being, you will evaluate for the movie already rated by the user insead of predicting it for the movie not rated by the user. "
   ]
  },
  {
   "cell_type": "code",
   "execution_count": null,
   "metadata": {
    "colab": {
     "base_uri": "https://localhost:8080/"
    },
    "id": "C-EiZ7gNAUQS",
    "outputId": "41dd5ab1-d790-4620-b61b-77ec12cb73fe"
   },
   "outputs": [
    {
     "data": {
      "text/plain": [
       "Index(['userId', 'movieId', 'rating', 'timestamp'], dtype='object')"
      ]
     },
     "execution_count": 124,
     "metadata": {
      "tags": []
     },
     "output_type": "execute_result"
    }
   ],
   "source": [
    "test.columns"
   ]
  },
  {
   "cell_type": "code",
   "execution_count": null,
   "metadata": {
    "colab": {
     "base_uri": "https://localhost:8080/"
    },
    "id": "d_ExtVCaWiEq",
    "outputId": "5e986076-94d9-4ed4-aa78-26b2b99eec6d"
   },
   "outputs": [
    {
     "data": {
      "text/plain": [
       "(88035, 4)"
      ]
     },
     "execution_count": 125,
     "metadata": {
      "tags": []
     },
     "output_type": "execute_result"
    }
   ],
   "source": [
    "common =  test[test.movieId.isin(train.movieId)]\n",
    "common.shape"
   ]
  },
  {
   "cell_type": "code",
   "execution_count": null,
   "metadata": {
    "colab": {
     "base_uri": "https://localhost:8080/",
     "height": 171
    },
    "id": "uXgx9w9c0ti5",
    "outputId": "55285ae8-c3f1-45cb-d3d4-1461e21c21d6"
   },
   "outputs": [
    {
     "data": {
      "text/html": [
       "<div>\n",
       "<style scoped>\n",
       "    .dataframe tbody tr th:only-of-type {\n",
       "        vertical-align: middle;\n",
       "    }\n",
       "\n",
       "    .dataframe tbody tr th {\n",
       "        vertical-align: top;\n",
       "    }\n",
       "\n",
       "    .dataframe thead th {\n",
       "        text-align: right;\n",
       "    }\n",
       "</style>\n",
       "<table border=\"1\" class=\"dataframe\">\n",
       "  <thead>\n",
       "    <tr style=\"text-align: right;\">\n",
       "      <th></th>\n",
       "      <th>userId</th>\n",
       "      <th>movieId</th>\n",
       "      <th>rating</th>\n",
       "      <th>timestamp</th>\n",
       "    </tr>\n",
       "  </thead>\n",
       "  <tbody>\n",
       "    <tr>\n",
       "      <th>29643</th>\n",
       "      <td>226</td>\n",
       "      <td>3156</td>\n",
       "      <td>1.0</td>\n",
       "      <td>1059516139</td>\n",
       "    </tr>\n",
       "    <tr>\n",
       "      <th>152649</th>\n",
       "      <td>1074</td>\n",
       "      <td>2194</td>\n",
       "      <td>3.0</td>\n",
       "      <td>906133915</td>\n",
       "    </tr>\n",
       "    <tr>\n",
       "      <th>123175</th>\n",
       "      <td>886</td>\n",
       "      <td>4886</td>\n",
       "      <td>3.5</td>\n",
       "      <td>1168350634</td>\n",
       "    </tr>\n",
       "    <tr>\n",
       "      <th>23712</th>\n",
       "      <td>185</td>\n",
       "      <td>1101</td>\n",
       "      <td>4.0</td>\n",
       "      <td>1191923488</td>\n",
       "    </tr>\n",
       "  </tbody>\n",
       "</table>\n",
       "</div>"
      ],
      "text/plain": [
       "        userId  movieId  rating   timestamp\n",
       "29643      226     3156     1.0  1059516139\n",
       "152649    1074     2194     3.0   906133915\n",
       "123175     886     4886     3.5  1168350634\n",
       "23712      185     1101     4.0  1191923488"
      ]
     },
     "execution_count": 126,
     "metadata": {
      "tags": []
     },
     "output_type": "execute_result"
    }
   ],
   "source": [
    "common.head(4)"
   ]
  },
  {
   "cell_type": "code",
   "execution_count": null,
   "metadata": {
    "id": "3xinGmbxHdsL"
   },
   "outputs": [],
   "source": [
    "common_item_based_matrix = common.pivot_table(index='userId', columns='movieId', values='rating').T"
   ]
  },
  {
   "cell_type": "code",
   "execution_count": null,
   "metadata": {
    "colab": {
     "base_uri": "https://localhost:8080/"
    },
    "id": "bj7SQa36H2tC",
    "outputId": "c9ecdd10-359a-4915-9372-c1c4bb6a8f31"
   },
   "outputs": [
    {
     "data": {
      "text/plain": [
       "(7783, 2071)"
      ]
     },
     "execution_count": 128,
     "metadata": {
      "tags": []
     },
     "output_type": "execute_result"
    }
   ],
   "source": [
    "common_item_based_matrix.shape"
   ]
  },
  {
   "cell_type": "code",
   "execution_count": null,
   "metadata": {
    "id": "n80CcpaX1UQ8"
   },
   "outputs": [],
   "source": [
    "item_correlation_df = pd.DataFrame(item_correlation)"
   ]
  },
  {
   "cell_type": "code",
   "execution_count": null,
   "metadata": {
    "colab": {
     "base_uri": "https://localhost:8080/",
     "height": 129
    },
    "id": "OTOgMuup1g_G",
    "outputId": "fcd743eb-d825-4432-da42-94720a7d99cf"
   },
   "outputs": [
    {
     "data": {
      "text/html": [
       "<div>\n",
       "<style scoped>\n",
       "    .dataframe tbody tr th:only-of-type {\n",
       "        vertical-align: middle;\n",
       "    }\n",
       "\n",
       "    .dataframe tbody tr th {\n",
       "        vertical-align: top;\n",
       "    }\n",
       "\n",
       "    .dataframe thead th {\n",
       "        text-align: right;\n",
       "    }\n",
       "</style>\n",
       "<table border=\"1\" class=\"dataframe\">\n",
       "  <thead>\n",
       "    <tr style=\"text-align: right;\">\n",
       "      <th></th>\n",
       "      <th>0</th>\n",
       "      <th>1</th>\n",
       "      <th>2</th>\n",
       "      <th>3</th>\n",
       "      <th>4</th>\n",
       "      <th>5</th>\n",
       "      <th>6</th>\n",
       "      <th>7</th>\n",
       "      <th>8</th>\n",
       "      <th>9</th>\n",
       "      <th>10</th>\n",
       "      <th>11</th>\n",
       "      <th>12</th>\n",
       "      <th>13</th>\n",
       "      <th>14</th>\n",
       "      <th>15</th>\n",
       "      <th>16</th>\n",
       "      <th>17</th>\n",
       "      <th>18</th>\n",
       "      <th>19</th>\n",
       "      <th>20</th>\n",
       "      <th>21</th>\n",
       "      <th>22</th>\n",
       "      <th>23</th>\n",
       "      <th>24</th>\n",
       "      <th>25</th>\n",
       "      <th>26</th>\n",
       "      <th>27</th>\n",
       "      <th>28</th>\n",
       "      <th>29</th>\n",
       "      <th>30</th>\n",
       "      <th>31</th>\n",
       "      <th>32</th>\n",
       "      <th>33</th>\n",
       "      <th>34</th>\n",
       "      <th>35</th>\n",
       "      <th>36</th>\n",
       "      <th>37</th>\n",
       "      <th>38</th>\n",
       "      <th>39</th>\n",
       "      <th>...</th>\n",
       "      <th>12871</th>\n",
       "      <th>12872</th>\n",
       "      <th>12873</th>\n",
       "      <th>12874</th>\n",
       "      <th>12875</th>\n",
       "      <th>12876</th>\n",
       "      <th>12877</th>\n",
       "      <th>12878</th>\n",
       "      <th>12879</th>\n",
       "      <th>12880</th>\n",
       "      <th>12881</th>\n",
       "      <th>12882</th>\n",
       "      <th>12883</th>\n",
       "      <th>12884</th>\n",
       "      <th>12885</th>\n",
       "      <th>12886</th>\n",
       "      <th>12887</th>\n",
       "      <th>12888</th>\n",
       "      <th>12889</th>\n",
       "      <th>12890</th>\n",
       "      <th>12891</th>\n",
       "      <th>12892</th>\n",
       "      <th>12893</th>\n",
       "      <th>12894</th>\n",
       "      <th>12895</th>\n",
       "      <th>12896</th>\n",
       "      <th>12897</th>\n",
       "      <th>12898</th>\n",
       "      <th>12899</th>\n",
       "      <th>12900</th>\n",
       "      <th>12901</th>\n",
       "      <th>12902</th>\n",
       "      <th>12903</th>\n",
       "      <th>12904</th>\n",
       "      <th>12905</th>\n",
       "      <th>12906</th>\n",
       "      <th>12907</th>\n",
       "      <th>12908</th>\n",
       "      <th>12909</th>\n",
       "      <th>12910</th>\n",
       "    </tr>\n",
       "  </thead>\n",
       "  <tbody>\n",
       "    <tr>\n",
       "      <th>0</th>\n",
       "      <td>1.0</td>\n",
       "      <td>0.102915</td>\n",
       "      <td>0.0</td>\n",
       "      <td>0.00434</td>\n",
       "      <td>0.095113</td>\n",
       "      <td>0.066226</td>\n",
       "      <td>0.0</td>\n",
       "      <td>0.009237</td>\n",
       "      <td>0.02017</td>\n",
       "      <td>0.110567</td>\n",
       "      <td>0.001906</td>\n",
       "      <td>0.01273</td>\n",
       "      <td>0.037987</td>\n",
       "      <td>0.0</td>\n",
       "      <td>0.021544</td>\n",
       "      <td>0.018412</td>\n",
       "      <td>0.023088</td>\n",
       "      <td>0.0</td>\n",
       "      <td>0.083921</td>\n",
       "      <td>0.0</td>\n",
       "      <td>0.036459</td>\n",
       "      <td>0.011627</td>\n",
       "      <td>0.111087</td>\n",
       "      <td>0.004441</td>\n",
       "      <td>0.024696</td>\n",
       "      <td>0.022684</td>\n",
       "      <td>0.019995</td>\n",
       "      <td>0.0</td>\n",
       "      <td>0.0</td>\n",
       "      <td>0.0</td>\n",
       "      <td>0.045761</td>\n",
       "      <td>0.06942</td>\n",
       "      <td>0.0</td>\n",
       "      <td>0.109849</td>\n",
       "      <td>0.0</td>\n",
       "      <td>0.08708</td>\n",
       "      <td>0.001596</td>\n",
       "      <td>0.046534</td>\n",
       "      <td>0.0</td>\n",
       "      <td>0.0</td>\n",
       "      <td>...</td>\n",
       "      <td>0.0</td>\n",
       "      <td>0.0</td>\n",
       "      <td>0.0</td>\n",
       "      <td>0.0</td>\n",
       "      <td>0.0</td>\n",
       "      <td>0.0</td>\n",
       "      <td>0.0</td>\n",
       "      <td>0.0</td>\n",
       "      <td>0.0</td>\n",
       "      <td>0.0</td>\n",
       "      <td>0.001596</td>\n",
       "      <td>0.0</td>\n",
       "      <td>0.0</td>\n",
       "      <td>0.0</td>\n",
       "      <td>0.0</td>\n",
       "      <td>0.0</td>\n",
       "      <td>0.0</td>\n",
       "      <td>0.0</td>\n",
       "      <td>0.0</td>\n",
       "      <td>0.0</td>\n",
       "      <td>0.0</td>\n",
       "      <td>0.0</td>\n",
       "      <td>0.003606</td>\n",
       "      <td>0.0</td>\n",
       "      <td>0.0</td>\n",
       "      <td>0.0</td>\n",
       "      <td>0.0</td>\n",
       "      <td>0.0</td>\n",
       "      <td>0.0</td>\n",
       "      <td>0.0</td>\n",
       "      <td>0.0</td>\n",
       "      <td>0.0</td>\n",
       "      <td>0.0</td>\n",
       "      <td>0.0</td>\n",
       "      <td>0.0</td>\n",
       "      <td>0.0</td>\n",
       "      <td>0.0</td>\n",
       "      <td>0.0</td>\n",
       "      <td>0.0</td>\n",
       "      <td>0.0</td>\n",
       "    </tr>\n",
       "  </tbody>\n",
       "</table>\n",
       "<p>1 rows × 12911 columns</p>\n",
       "</div>"
      ],
      "text/plain": [
       "   0         1      2        3         4      ...  12906  12907  12908  12909  12910\n",
       "0    1.0  0.102915    0.0  0.00434  0.095113  ...    0.0    0.0    0.0    0.0    0.0\n",
       "\n",
       "[1 rows x 12911 columns]"
      ]
     },
     "execution_count": 130,
     "metadata": {
      "tags": []
     },
     "output_type": "execute_result"
    }
   ],
   "source": [
    "item_correlation_df.head(1)"
   ]
  },
  {
   "cell_type": "code",
   "execution_count": null,
   "metadata": {
    "colab": {
     "base_uri": "https://localhost:8080/",
     "height": 282
    },
    "id": "EA7LH-mK1dUM",
    "outputId": "e30dea0c-5d80-433d-a7bd-5c2d866cbed8"
   },
   "outputs": [
    {
     "data": {
      "text/html": [
       "<div>\n",
       "<style scoped>\n",
       "    .dataframe tbody tr th:only-of-type {\n",
       "        vertical-align: middle;\n",
       "    }\n",
       "\n",
       "    .dataframe tbody tr th {\n",
       "        vertical-align: top;\n",
       "    }\n",
       "\n",
       "    .dataframe thead th {\n",
       "        text-align: right;\n",
       "    }\n",
       "</style>\n",
       "<table border=\"1\" class=\"dataframe\">\n",
       "  <thead>\n",
       "    <tr style=\"text-align: right;\">\n",
       "      <th></th>\n",
       "      <th>0</th>\n",
       "      <th>1</th>\n",
       "      <th>2</th>\n",
       "      <th>3</th>\n",
       "      <th>4</th>\n",
       "      <th>5</th>\n",
       "      <th>6</th>\n",
       "      <th>7</th>\n",
       "      <th>8</th>\n",
       "      <th>9</th>\n",
       "      <th>10</th>\n",
       "      <th>11</th>\n",
       "      <th>12</th>\n",
       "      <th>13</th>\n",
       "      <th>14</th>\n",
       "      <th>15</th>\n",
       "      <th>16</th>\n",
       "      <th>17</th>\n",
       "      <th>18</th>\n",
       "      <th>19</th>\n",
       "      <th>20</th>\n",
       "      <th>21</th>\n",
       "      <th>22</th>\n",
       "      <th>23</th>\n",
       "      <th>24</th>\n",
       "      <th>25</th>\n",
       "      <th>26</th>\n",
       "      <th>27</th>\n",
       "      <th>28</th>\n",
       "      <th>29</th>\n",
       "      <th>30</th>\n",
       "      <th>31</th>\n",
       "      <th>32</th>\n",
       "      <th>33</th>\n",
       "      <th>34</th>\n",
       "      <th>35</th>\n",
       "      <th>36</th>\n",
       "      <th>37</th>\n",
       "      <th>38</th>\n",
       "      <th>39</th>\n",
       "      <th>...</th>\n",
       "      <th>12871</th>\n",
       "      <th>12872</th>\n",
       "      <th>12873</th>\n",
       "      <th>12874</th>\n",
       "      <th>12875</th>\n",
       "      <th>12876</th>\n",
       "      <th>12877</th>\n",
       "      <th>12878</th>\n",
       "      <th>12879</th>\n",
       "      <th>12880</th>\n",
       "      <th>12881</th>\n",
       "      <th>12882</th>\n",
       "      <th>12883</th>\n",
       "      <th>12884</th>\n",
       "      <th>12885</th>\n",
       "      <th>12886</th>\n",
       "      <th>12887</th>\n",
       "      <th>12888</th>\n",
       "      <th>12889</th>\n",
       "      <th>12890</th>\n",
       "      <th>12891</th>\n",
       "      <th>12892</th>\n",
       "      <th>12893</th>\n",
       "      <th>12894</th>\n",
       "      <th>12895</th>\n",
       "      <th>12896</th>\n",
       "      <th>12897</th>\n",
       "      <th>12898</th>\n",
       "      <th>12899</th>\n",
       "      <th>12900</th>\n",
       "      <th>12901</th>\n",
       "      <th>12902</th>\n",
       "      <th>12903</th>\n",
       "      <th>12904</th>\n",
       "      <th>12905</th>\n",
       "      <th>12906</th>\n",
       "      <th>12907</th>\n",
       "      <th>12908</th>\n",
       "      <th>12909</th>\n",
       "      <th>12910</th>\n",
       "    </tr>\n",
       "    <tr>\n",
       "      <th>movieId</th>\n",
       "      <th></th>\n",
       "      <th></th>\n",
       "      <th></th>\n",
       "      <th></th>\n",
       "      <th></th>\n",
       "      <th></th>\n",
       "      <th></th>\n",
       "      <th></th>\n",
       "      <th></th>\n",
       "      <th></th>\n",
       "      <th></th>\n",
       "      <th></th>\n",
       "      <th></th>\n",
       "      <th></th>\n",
       "      <th></th>\n",
       "      <th></th>\n",
       "      <th></th>\n",
       "      <th></th>\n",
       "      <th></th>\n",
       "      <th></th>\n",
       "      <th></th>\n",
       "      <th></th>\n",
       "      <th></th>\n",
       "      <th></th>\n",
       "      <th></th>\n",
       "      <th></th>\n",
       "      <th></th>\n",
       "      <th></th>\n",
       "      <th></th>\n",
       "      <th></th>\n",
       "      <th></th>\n",
       "      <th></th>\n",
       "      <th></th>\n",
       "      <th></th>\n",
       "      <th></th>\n",
       "      <th></th>\n",
       "      <th></th>\n",
       "      <th></th>\n",
       "      <th></th>\n",
       "      <th></th>\n",
       "      <th></th>\n",
       "      <th></th>\n",
       "      <th></th>\n",
       "      <th></th>\n",
       "      <th></th>\n",
       "      <th></th>\n",
       "      <th></th>\n",
       "      <th></th>\n",
       "      <th></th>\n",
       "      <th></th>\n",
       "      <th></th>\n",
       "      <th></th>\n",
       "      <th></th>\n",
       "      <th></th>\n",
       "      <th></th>\n",
       "      <th></th>\n",
       "      <th></th>\n",
       "      <th></th>\n",
       "      <th></th>\n",
       "      <th></th>\n",
       "      <th></th>\n",
       "      <th></th>\n",
       "      <th></th>\n",
       "      <th></th>\n",
       "      <th></th>\n",
       "      <th></th>\n",
       "      <th></th>\n",
       "      <th></th>\n",
       "      <th></th>\n",
       "      <th></th>\n",
       "      <th></th>\n",
       "      <th></th>\n",
       "      <th></th>\n",
       "      <th></th>\n",
       "      <th></th>\n",
       "      <th></th>\n",
       "      <th></th>\n",
       "      <th></th>\n",
       "      <th></th>\n",
       "      <th></th>\n",
       "      <th></th>\n",
       "    </tr>\n",
       "  </thead>\n",
       "  <tbody>\n",
       "    <tr>\n",
       "      <th>1</th>\n",
       "      <td>1.000000</td>\n",
       "      <td>0.102915</td>\n",
       "      <td>0.000000</td>\n",
       "      <td>0.004340</td>\n",
       "      <td>0.095113</td>\n",
       "      <td>0.066226</td>\n",
       "      <td>0.000000</td>\n",
       "      <td>0.009237</td>\n",
       "      <td>0.020170</td>\n",
       "      <td>0.110567</td>\n",
       "      <td>0.001906</td>\n",
       "      <td>0.012730</td>\n",
       "      <td>0.037987</td>\n",
       "      <td>0.00000</td>\n",
       "      <td>0.021544</td>\n",
       "      <td>0.018412</td>\n",
       "      <td>0.023088</td>\n",
       "      <td>0.000000</td>\n",
       "      <td>0.083921</td>\n",
       "      <td>0.000000</td>\n",
       "      <td>0.036459</td>\n",
       "      <td>0.011627</td>\n",
       "      <td>0.111087</td>\n",
       "      <td>0.004441</td>\n",
       "      <td>0.024696</td>\n",
       "      <td>0.022684</td>\n",
       "      <td>0.019995</td>\n",
       "      <td>0.000000</td>\n",
       "      <td>0.000000</td>\n",
       "      <td>0.0</td>\n",
       "      <td>0.045761</td>\n",
       "      <td>0.069420</td>\n",
       "      <td>0.0</td>\n",
       "      <td>0.109849</td>\n",
       "      <td>0.0</td>\n",
       "      <td>0.08708</td>\n",
       "      <td>0.001596</td>\n",
       "      <td>0.046534</td>\n",
       "      <td>0.000000</td>\n",
       "      <td>0.000000</td>\n",
       "      <td>...</td>\n",
       "      <td>0.000000</td>\n",
       "      <td>0.0</td>\n",
       "      <td>0.0</td>\n",
       "      <td>0.0</td>\n",
       "      <td>0.0</td>\n",
       "      <td>0.0</td>\n",
       "      <td>0.0</td>\n",
       "      <td>0.0</td>\n",
       "      <td>0.0</td>\n",
       "      <td>0.0</td>\n",
       "      <td>0.001596</td>\n",
       "      <td>0.0</td>\n",
       "      <td>0.000000</td>\n",
       "      <td>0.0</td>\n",
       "      <td>0.0</td>\n",
       "      <td>0.0</td>\n",
       "      <td>0.0</td>\n",
       "      <td>0.0</td>\n",
       "      <td>0.0</td>\n",
       "      <td>0.0</td>\n",
       "      <td>0.0</td>\n",
       "      <td>0.0</td>\n",
       "      <td>0.003606</td>\n",
       "      <td>0.0</td>\n",
       "      <td>0.0</td>\n",
       "      <td>0.00000</td>\n",
       "      <td>0.0</td>\n",
       "      <td>0.0</td>\n",
       "      <td>0.0</td>\n",
       "      <td>0.0</td>\n",
       "      <td>0.0</td>\n",
       "      <td>0.0</td>\n",
       "      <td>0.0</td>\n",
       "      <td>0.0</td>\n",
       "      <td>0.0</td>\n",
       "      <td>0.0</td>\n",
       "      <td>0.0</td>\n",
       "      <td>0.0</td>\n",
       "      <td>0.0</td>\n",
       "      <td>0.0</td>\n",
       "    </tr>\n",
       "    <tr>\n",
       "      <th>2</th>\n",
       "      <td>0.102915</td>\n",
       "      <td>1.000000</td>\n",
       "      <td>0.031700</td>\n",
       "      <td>0.000000</td>\n",
       "      <td>0.060859</td>\n",
       "      <td>0.046665</td>\n",
       "      <td>0.030885</td>\n",
       "      <td>0.025288</td>\n",
       "      <td>0.022028</td>\n",
       "      <td>0.157213</td>\n",
       "      <td>0.075537</td>\n",
       "      <td>0.073021</td>\n",
       "      <td>0.011394</td>\n",
       "      <td>0.02182</td>\n",
       "      <td>0.090197</td>\n",
       "      <td>0.057968</td>\n",
       "      <td>0.022819</td>\n",
       "      <td>0.039248</td>\n",
       "      <td>0.075351</td>\n",
       "      <td>0.050777</td>\n",
       "      <td>0.075855</td>\n",
       "      <td>0.149411</td>\n",
       "      <td>0.122759</td>\n",
       "      <td>0.125354</td>\n",
       "      <td>0.002899</td>\n",
       "      <td>0.037272</td>\n",
       "      <td>0.046453</td>\n",
       "      <td>0.000987</td>\n",
       "      <td>0.000000</td>\n",
       "      <td>0.0</td>\n",
       "      <td>0.068773</td>\n",
       "      <td>0.012696</td>\n",
       "      <td>0.0</td>\n",
       "      <td>0.121856</td>\n",
       "      <td>0.0</td>\n",
       "      <td>0.01059</td>\n",
       "      <td>0.000000</td>\n",
       "      <td>0.078514</td>\n",
       "      <td>0.000000</td>\n",
       "      <td>0.000000</td>\n",
       "      <td>...</td>\n",
       "      <td>0.020464</td>\n",
       "      <td>0.0</td>\n",
       "      <td>0.0</td>\n",
       "      <td>0.0</td>\n",
       "      <td>0.0</td>\n",
       "      <td>0.0</td>\n",
       "      <td>0.0</td>\n",
       "      <td>0.0</td>\n",
       "      <td>0.0</td>\n",
       "      <td>0.0</td>\n",
       "      <td>0.000000</td>\n",
       "      <td>0.0</td>\n",
       "      <td>0.000000</td>\n",
       "      <td>0.0</td>\n",
       "      <td>0.0</td>\n",
       "      <td>0.0</td>\n",
       "      <td>0.0</td>\n",
       "      <td>0.0</td>\n",
       "      <td>0.0</td>\n",
       "      <td>0.0</td>\n",
       "      <td>0.0</td>\n",
       "      <td>0.0</td>\n",
       "      <td>0.000000</td>\n",
       "      <td>0.0</td>\n",
       "      <td>0.0</td>\n",
       "      <td>0.10963</td>\n",
       "      <td>0.0</td>\n",
       "      <td>0.0</td>\n",
       "      <td>0.0</td>\n",
       "      <td>0.0</td>\n",
       "      <td>0.0</td>\n",
       "      <td>0.0</td>\n",
       "      <td>0.0</td>\n",
       "      <td>0.0</td>\n",
       "      <td>0.0</td>\n",
       "      <td>0.0</td>\n",
       "      <td>0.0</td>\n",
       "      <td>0.0</td>\n",
       "      <td>0.0</td>\n",
       "      <td>0.0</td>\n",
       "    </tr>\n",
       "    <tr>\n",
       "      <th>3</th>\n",
       "      <td>0.000000</td>\n",
       "      <td>0.031700</td>\n",
       "      <td>1.000000</td>\n",
       "      <td>0.004382</td>\n",
       "      <td>0.069432</td>\n",
       "      <td>0.011788</td>\n",
       "      <td>0.054688</td>\n",
       "      <td>0.060193</td>\n",
       "      <td>0.100534</td>\n",
       "      <td>0.011718</td>\n",
       "      <td>0.061175</td>\n",
       "      <td>0.000000</td>\n",
       "      <td>0.000000</td>\n",
       "      <td>0.00000</td>\n",
       "      <td>0.000000</td>\n",
       "      <td>0.050120</td>\n",
       "      <td>0.002268</td>\n",
       "      <td>0.020197</td>\n",
       "      <td>0.106894</td>\n",
       "      <td>0.056241</td>\n",
       "      <td>0.002759</td>\n",
       "      <td>0.021814</td>\n",
       "      <td>0.063946</td>\n",
       "      <td>0.073520</td>\n",
       "      <td>0.000000</td>\n",
       "      <td>0.024446</td>\n",
       "      <td>0.128107</td>\n",
       "      <td>0.009599</td>\n",
       "      <td>0.034253</td>\n",
       "      <td>0.0</td>\n",
       "      <td>0.057190</td>\n",
       "      <td>0.000000</td>\n",
       "      <td>0.0</td>\n",
       "      <td>0.033450</td>\n",
       "      <td>0.0</td>\n",
       "      <td>0.00000</td>\n",
       "      <td>0.056231</td>\n",
       "      <td>0.000000</td>\n",
       "      <td>0.035462</td>\n",
       "      <td>0.032828</td>\n",
       "      <td>...</td>\n",
       "      <td>0.000000</td>\n",
       "      <td>0.0</td>\n",
       "      <td>0.0</td>\n",
       "      <td>0.0</td>\n",
       "      <td>0.0</td>\n",
       "      <td>0.0</td>\n",
       "      <td>0.0</td>\n",
       "      <td>0.0</td>\n",
       "      <td>0.0</td>\n",
       "      <td>0.0</td>\n",
       "      <td>0.000000</td>\n",
       "      <td>0.0</td>\n",
       "      <td>0.012623</td>\n",
       "      <td>0.0</td>\n",
       "      <td>0.0</td>\n",
       "      <td>0.0</td>\n",
       "      <td>0.0</td>\n",
       "      <td>0.0</td>\n",
       "      <td>0.0</td>\n",
       "      <td>0.0</td>\n",
       "      <td>0.0</td>\n",
       "      <td>0.0</td>\n",
       "      <td>0.000000</td>\n",
       "      <td>0.0</td>\n",
       "      <td>0.0</td>\n",
       "      <td>0.00000</td>\n",
       "      <td>0.0</td>\n",
       "      <td>0.0</td>\n",
       "      <td>0.0</td>\n",
       "      <td>0.0</td>\n",
       "      <td>0.0</td>\n",
       "      <td>0.0</td>\n",
       "      <td>0.0</td>\n",
       "      <td>0.0</td>\n",
       "      <td>0.0</td>\n",
       "      <td>0.0</td>\n",
       "      <td>0.0</td>\n",
       "      <td>0.0</td>\n",
       "      <td>0.0</td>\n",
       "      <td>0.0</td>\n",
       "    </tr>\n",
       "    <tr>\n",
       "      <th>4</th>\n",
       "      <td>0.004340</td>\n",
       "      <td>0.000000</td>\n",
       "      <td>0.004382</td>\n",
       "      <td>1.000000</td>\n",
       "      <td>0.038519</td>\n",
       "      <td>0.029985</td>\n",
       "      <td>0.019847</td>\n",
       "      <td>0.000000</td>\n",
       "      <td>0.067890</td>\n",
       "      <td>0.000000</td>\n",
       "      <td>0.000000</td>\n",
       "      <td>0.019552</td>\n",
       "      <td>0.000000</td>\n",
       "      <td>0.00000</td>\n",
       "      <td>0.094436</td>\n",
       "      <td>0.000000</td>\n",
       "      <td>0.007044</td>\n",
       "      <td>0.052955</td>\n",
       "      <td>0.000000</td>\n",
       "      <td>0.000000</td>\n",
       "      <td>0.000000</td>\n",
       "      <td>0.081803</td>\n",
       "      <td>0.009588</td>\n",
       "      <td>0.000000</td>\n",
       "      <td>0.000000</td>\n",
       "      <td>0.000000</td>\n",
       "      <td>0.000000</td>\n",
       "      <td>0.000000</td>\n",
       "      <td>0.000000</td>\n",
       "      <td>0.0</td>\n",
       "      <td>0.047059</td>\n",
       "      <td>0.000385</td>\n",
       "      <td>0.0</td>\n",
       "      <td>0.030021</td>\n",
       "      <td>0.0</td>\n",
       "      <td>0.00000</td>\n",
       "      <td>0.000000</td>\n",
       "      <td>0.040589</td>\n",
       "      <td>0.000000</td>\n",
       "      <td>0.013528</td>\n",
       "      <td>...</td>\n",
       "      <td>0.000000</td>\n",
       "      <td>0.0</td>\n",
       "      <td>0.0</td>\n",
       "      <td>0.0</td>\n",
       "      <td>0.0</td>\n",
       "      <td>0.0</td>\n",
       "      <td>0.0</td>\n",
       "      <td>0.0</td>\n",
       "      <td>0.0</td>\n",
       "      <td>0.0</td>\n",
       "      <td>0.000000</td>\n",
       "      <td>0.0</td>\n",
       "      <td>0.000000</td>\n",
       "      <td>0.0</td>\n",
       "      <td>0.0</td>\n",
       "      <td>0.0</td>\n",
       "      <td>0.0</td>\n",
       "      <td>0.0</td>\n",
       "      <td>0.0</td>\n",
       "      <td>0.0</td>\n",
       "      <td>0.0</td>\n",
       "      <td>0.0</td>\n",
       "      <td>0.000000</td>\n",
       "      <td>0.0</td>\n",
       "      <td>0.0</td>\n",
       "      <td>0.00000</td>\n",
       "      <td>0.0</td>\n",
       "      <td>0.0</td>\n",
       "      <td>0.0</td>\n",
       "      <td>0.0</td>\n",
       "      <td>0.0</td>\n",
       "      <td>0.0</td>\n",
       "      <td>0.0</td>\n",
       "      <td>0.0</td>\n",
       "      <td>0.0</td>\n",
       "      <td>0.0</td>\n",
       "      <td>0.0</td>\n",
       "      <td>0.0</td>\n",
       "      <td>0.0</td>\n",
       "      <td>0.0</td>\n",
       "    </tr>\n",
       "    <tr>\n",
       "      <th>5</th>\n",
       "      <td>0.095113</td>\n",
       "      <td>0.060859</td>\n",
       "      <td>0.069432</td>\n",
       "      <td>0.038519</td>\n",
       "      <td>1.000000</td>\n",
       "      <td>0.063813</td>\n",
       "      <td>0.000000</td>\n",
       "      <td>0.000000</td>\n",
       "      <td>0.043664</td>\n",
       "      <td>0.091824</td>\n",
       "      <td>0.070592</td>\n",
       "      <td>0.000000</td>\n",
       "      <td>0.000000</td>\n",
       "      <td>0.00000</td>\n",
       "      <td>0.040252</td>\n",
       "      <td>0.053018</td>\n",
       "      <td>0.000000</td>\n",
       "      <td>0.000000</td>\n",
       "      <td>0.041148</td>\n",
       "      <td>0.000000</td>\n",
       "      <td>0.041346</td>\n",
       "      <td>0.000000</td>\n",
       "      <td>0.007879</td>\n",
       "      <td>0.000000</td>\n",
       "      <td>0.000000</td>\n",
       "      <td>0.069025</td>\n",
       "      <td>0.077936</td>\n",
       "      <td>0.009779</td>\n",
       "      <td>0.023431</td>\n",
       "      <td>0.0</td>\n",
       "      <td>0.065998</td>\n",
       "      <td>0.000000</td>\n",
       "      <td>0.0</td>\n",
       "      <td>0.039640</td>\n",
       "      <td>0.0</td>\n",
       "      <td>0.00000</td>\n",
       "      <td>0.063713</td>\n",
       "      <td>0.020557</td>\n",
       "      <td>0.000000</td>\n",
       "      <td>0.000000</td>\n",
       "      <td>...</td>\n",
       "      <td>0.000000</td>\n",
       "      <td>0.0</td>\n",
       "      <td>0.0</td>\n",
       "      <td>0.0</td>\n",
       "      <td>0.0</td>\n",
       "      <td>0.0</td>\n",
       "      <td>0.0</td>\n",
       "      <td>0.0</td>\n",
       "      <td>0.0</td>\n",
       "      <td>0.0</td>\n",
       "      <td>0.000000</td>\n",
       "      <td>0.0</td>\n",
       "      <td>0.000000</td>\n",
       "      <td>0.0</td>\n",
       "      <td>0.0</td>\n",
       "      <td>0.0</td>\n",
       "      <td>0.0</td>\n",
       "      <td>0.0</td>\n",
       "      <td>0.0</td>\n",
       "      <td>0.0</td>\n",
       "      <td>0.0</td>\n",
       "      <td>0.0</td>\n",
       "      <td>0.000000</td>\n",
       "      <td>0.0</td>\n",
       "      <td>0.0</td>\n",
       "      <td>0.00000</td>\n",
       "      <td>0.0</td>\n",
       "      <td>0.0</td>\n",
       "      <td>0.0</td>\n",
       "      <td>0.0</td>\n",
       "      <td>0.0</td>\n",
       "      <td>0.0</td>\n",
       "      <td>0.0</td>\n",
       "      <td>0.0</td>\n",
       "      <td>0.0</td>\n",
       "      <td>0.0</td>\n",
       "      <td>0.0</td>\n",
       "      <td>0.0</td>\n",
       "      <td>0.0</td>\n",
       "      <td>0.0</td>\n",
       "    </tr>\n",
       "  </tbody>\n",
       "</table>\n",
       "<p>5 rows × 12911 columns</p>\n",
       "</div>"
      ],
      "text/plain": [
       "            0         1         2         3      ...  12907  12908  12909  12910\n",
       "movieId                                          ...                            \n",
       "1        1.000000  0.102915  0.000000  0.004340  ...    0.0    0.0    0.0    0.0\n",
       "2        0.102915  1.000000  0.031700  0.000000  ...    0.0    0.0    0.0    0.0\n",
       "3        0.000000  0.031700  1.000000  0.004382  ...    0.0    0.0    0.0    0.0\n",
       "4        0.004340  0.000000  0.004382  1.000000  ...    0.0    0.0    0.0    0.0\n",
       "5        0.095113  0.060859  0.069432  0.038519  ...    0.0    0.0    0.0    0.0\n",
       "\n",
       "[5 rows x 12911 columns]"
      ]
     },
     "execution_count": 131,
     "metadata": {
      "tags": []
     },
     "output_type": "execute_result"
    }
   ],
   "source": [
    "item_correlation_df['movieId'] = df_subtracted.index\n",
    "item_correlation_df.set_index('movieId',inplace=True)\n",
    "item_correlation_df.head()"
   ]
  },
  {
   "cell_type": "code",
   "execution_count": null,
   "metadata": {
    "id": "qIjL6zHB1-45"
   },
   "outputs": [],
   "source": [
    "list_name = common.movieId.tolist()"
   ]
  },
  {
   "cell_type": "code",
   "execution_count": null,
   "metadata": {
    "id": "sLYXW2c42EjC"
   },
   "outputs": [],
   "source": [
    "item_correlation_df.columns = df_subtracted.index.tolist()\n",
    "\n",
    "item_correlation_df_1 =  item_correlation_df[item_correlation_df.index.isin(list_name)]"
   ]
  },
  {
   "cell_type": "code",
   "execution_count": null,
   "metadata": {
    "id": "r5PhoITK2L9i"
   },
   "outputs": [],
   "source": [
    "item_correlation_df_2 = item_correlation_df_1.T[item_correlation_df_1.T.index.isin(list_name)]\n",
    "\n",
    "item_correlation_df_3 = item_correlation_df_2.T"
   ]
  },
  {
   "cell_type": "code",
   "execution_count": null,
   "metadata": {
    "colab": {
     "base_uri": "https://localhost:8080/",
     "height": 282
    },
    "id": "A9CBf1QCfiwB",
    "outputId": "9c844c9f-c04e-432f-bc57-33dd66ce7489"
   },
   "outputs": [
    {
     "data": {
      "text/html": [
       "<div>\n",
       "<style scoped>\n",
       "    .dataframe tbody tr th:only-of-type {\n",
       "        vertical-align: middle;\n",
       "    }\n",
       "\n",
       "    .dataframe tbody tr th {\n",
       "        vertical-align: top;\n",
       "    }\n",
       "\n",
       "    .dataframe thead th {\n",
       "        text-align: right;\n",
       "    }\n",
       "</style>\n",
       "<table border=\"1\" class=\"dataframe\">\n",
       "  <thead>\n",
       "    <tr style=\"text-align: right;\">\n",
       "      <th></th>\n",
       "      <th>1</th>\n",
       "      <th>2</th>\n",
       "      <th>3</th>\n",
       "      <th>4</th>\n",
       "      <th>5</th>\n",
       "      <th>6</th>\n",
       "      <th>7</th>\n",
       "      <th>8</th>\n",
       "      <th>9</th>\n",
       "      <th>10</th>\n",
       "      <th>11</th>\n",
       "      <th>12</th>\n",
       "      <th>13</th>\n",
       "      <th>14</th>\n",
       "      <th>15</th>\n",
       "      <th>16</th>\n",
       "      <th>17</th>\n",
       "      <th>18</th>\n",
       "      <th>19</th>\n",
       "      <th>20</th>\n",
       "      <th>21</th>\n",
       "      <th>22</th>\n",
       "      <th>23</th>\n",
       "      <th>24</th>\n",
       "      <th>25</th>\n",
       "      <th>26</th>\n",
       "      <th>27</th>\n",
       "      <th>28</th>\n",
       "      <th>29</th>\n",
       "      <th>30</th>\n",
       "      <th>31</th>\n",
       "      <th>32</th>\n",
       "      <th>34</th>\n",
       "      <th>35</th>\n",
       "      <th>36</th>\n",
       "      <th>39</th>\n",
       "      <th>40</th>\n",
       "      <th>41</th>\n",
       "      <th>42</th>\n",
       "      <th>43</th>\n",
       "      <th>...</th>\n",
       "      <th>193950</th>\n",
       "      <th>193958</th>\n",
       "      <th>194004</th>\n",
       "      <th>194016</th>\n",
       "      <th>194238</th>\n",
       "      <th>194448</th>\n",
       "      <th>194951</th>\n",
       "      <th>194959</th>\n",
       "      <th>195159</th>\n",
       "      <th>195163</th>\n",
       "      <th>195295</th>\n",
       "      <th>195777</th>\n",
       "      <th>196889</th>\n",
       "      <th>196891</th>\n",
       "      <th>196997</th>\n",
       "      <th>197199</th>\n",
       "      <th>197201</th>\n",
       "      <th>197491</th>\n",
       "      <th>197537</th>\n",
       "      <th>197691</th>\n",
       "      <th>197709</th>\n",
       "      <th>197711</th>\n",
       "      <th>197879</th>\n",
       "      <th>198703</th>\n",
       "      <th>200306</th>\n",
       "      <th>200540</th>\n",
       "      <th>200818</th>\n",
       "      <th>201588</th>\n",
       "      <th>201646</th>\n",
       "      <th>201749</th>\n",
       "      <th>201773</th>\n",
       "      <th>201811</th>\n",
       "      <th>202429</th>\n",
       "      <th>202439</th>\n",
       "      <th>203222</th>\n",
       "      <th>203519</th>\n",
       "      <th>204698</th>\n",
       "      <th>205383</th>\n",
       "      <th>206499</th>\n",
       "      <th>207309</th>\n",
       "    </tr>\n",
       "    <tr>\n",
       "      <th>movieId</th>\n",
       "      <th></th>\n",
       "      <th></th>\n",
       "      <th></th>\n",
       "      <th></th>\n",
       "      <th></th>\n",
       "      <th></th>\n",
       "      <th></th>\n",
       "      <th></th>\n",
       "      <th></th>\n",
       "      <th></th>\n",
       "      <th></th>\n",
       "      <th></th>\n",
       "      <th></th>\n",
       "      <th></th>\n",
       "      <th></th>\n",
       "      <th></th>\n",
       "      <th></th>\n",
       "      <th></th>\n",
       "      <th></th>\n",
       "      <th></th>\n",
       "      <th></th>\n",
       "      <th></th>\n",
       "      <th></th>\n",
       "      <th></th>\n",
       "      <th></th>\n",
       "      <th></th>\n",
       "      <th></th>\n",
       "      <th></th>\n",
       "      <th></th>\n",
       "      <th></th>\n",
       "      <th></th>\n",
       "      <th></th>\n",
       "      <th></th>\n",
       "      <th></th>\n",
       "      <th></th>\n",
       "      <th></th>\n",
       "      <th></th>\n",
       "      <th></th>\n",
       "      <th></th>\n",
       "      <th></th>\n",
       "      <th></th>\n",
       "      <th></th>\n",
       "      <th></th>\n",
       "      <th></th>\n",
       "      <th></th>\n",
       "      <th></th>\n",
       "      <th></th>\n",
       "      <th></th>\n",
       "      <th></th>\n",
       "      <th></th>\n",
       "      <th></th>\n",
       "      <th></th>\n",
       "      <th></th>\n",
       "      <th></th>\n",
       "      <th></th>\n",
       "      <th></th>\n",
       "      <th></th>\n",
       "      <th></th>\n",
       "      <th></th>\n",
       "      <th></th>\n",
       "      <th></th>\n",
       "      <th></th>\n",
       "      <th></th>\n",
       "      <th></th>\n",
       "      <th></th>\n",
       "      <th></th>\n",
       "      <th></th>\n",
       "      <th></th>\n",
       "      <th></th>\n",
       "      <th></th>\n",
       "      <th></th>\n",
       "      <th></th>\n",
       "      <th></th>\n",
       "      <th></th>\n",
       "      <th></th>\n",
       "      <th></th>\n",
       "      <th></th>\n",
       "      <th></th>\n",
       "      <th></th>\n",
       "      <th></th>\n",
       "      <th></th>\n",
       "    </tr>\n",
       "  </thead>\n",
       "  <tbody>\n",
       "    <tr>\n",
       "      <th>1</th>\n",
       "      <td>1.000000</td>\n",
       "      <td>0.102915</td>\n",
       "      <td>0.000000</td>\n",
       "      <td>0.004340</td>\n",
       "      <td>0.095113</td>\n",
       "      <td>0.066226</td>\n",
       "      <td>0.000000</td>\n",
       "      <td>0.009237</td>\n",
       "      <td>0.020170</td>\n",
       "      <td>0.110567</td>\n",
       "      <td>0.001906</td>\n",
       "      <td>0.012730</td>\n",
       "      <td>0.037987</td>\n",
       "      <td>0.00000</td>\n",
       "      <td>0.021544</td>\n",
       "      <td>0.018412</td>\n",
       "      <td>0.023088</td>\n",
       "      <td>0.000000</td>\n",
       "      <td>0.083921</td>\n",
       "      <td>0.000000</td>\n",
       "      <td>0.036459</td>\n",
       "      <td>0.011627</td>\n",
       "      <td>0.111087</td>\n",
       "      <td>0.004441</td>\n",
       "      <td>0.024696</td>\n",
       "      <td>0.022684</td>\n",
       "      <td>0.019995</td>\n",
       "      <td>0.000000</td>\n",
       "      <td>0.000000</td>\n",
       "      <td>0.0</td>\n",
       "      <td>0.045761</td>\n",
       "      <td>0.069420</td>\n",
       "      <td>0.109849</td>\n",
       "      <td>0.0</td>\n",
       "      <td>0.08708</td>\n",
       "      <td>0.046534</td>\n",
       "      <td>0.000000</td>\n",
       "      <td>0.000000</td>\n",
       "      <td>0.000000</td>\n",
       "      <td>0.000000</td>\n",
       "      <td>...</td>\n",
       "      <td>0.0</td>\n",
       "      <td>0.0</td>\n",
       "      <td>0.023605</td>\n",
       "      <td>0.101598</td>\n",
       "      <td>0.0</td>\n",
       "      <td>0.000000</td>\n",
       "      <td>0.000000</td>\n",
       "      <td>0.0</td>\n",
       "      <td>0.012044</td>\n",
       "      <td>0.0</td>\n",
       "      <td>0.0</td>\n",
       "      <td>0.069336</td>\n",
       "      <td>0.001671</td>\n",
       "      <td>0.017733</td>\n",
       "      <td>0.01172</td>\n",
       "      <td>0.016137</td>\n",
       "      <td>0.070932</td>\n",
       "      <td>0.0</td>\n",
       "      <td>0.0</td>\n",
       "      <td>0.0</td>\n",
       "      <td>0.0</td>\n",
       "      <td>0.018821</td>\n",
       "      <td>0.0</td>\n",
       "      <td>0.0</td>\n",
       "      <td>0.000000</td>\n",
       "      <td>0.0000</td>\n",
       "      <td>0.0</td>\n",
       "      <td>0.049834</td>\n",
       "      <td>0.015703</td>\n",
       "      <td>0.0</td>\n",
       "      <td>0.0</td>\n",
       "      <td>0.000000</td>\n",
       "      <td>0.00000</td>\n",
       "      <td>0.000000</td>\n",
       "      <td>0.0</td>\n",
       "      <td>0.0</td>\n",
       "      <td>0.003606</td>\n",
       "      <td>0.00000</td>\n",
       "      <td>0.0</td>\n",
       "      <td>0.0</td>\n",
       "    </tr>\n",
       "    <tr>\n",
       "      <th>2</th>\n",
       "      <td>0.102915</td>\n",
       "      <td>1.000000</td>\n",
       "      <td>0.031700</td>\n",
       "      <td>0.000000</td>\n",
       "      <td>0.060859</td>\n",
       "      <td>0.046665</td>\n",
       "      <td>0.030885</td>\n",
       "      <td>0.025288</td>\n",
       "      <td>0.022028</td>\n",
       "      <td>0.157213</td>\n",
       "      <td>0.075537</td>\n",
       "      <td>0.073021</td>\n",
       "      <td>0.011394</td>\n",
       "      <td>0.02182</td>\n",
       "      <td>0.090197</td>\n",
       "      <td>0.057968</td>\n",
       "      <td>0.022819</td>\n",
       "      <td>0.039248</td>\n",
       "      <td>0.075351</td>\n",
       "      <td>0.050777</td>\n",
       "      <td>0.075855</td>\n",
       "      <td>0.149411</td>\n",
       "      <td>0.122759</td>\n",
       "      <td>0.125354</td>\n",
       "      <td>0.002899</td>\n",
       "      <td>0.037272</td>\n",
       "      <td>0.046453</td>\n",
       "      <td>0.000987</td>\n",
       "      <td>0.000000</td>\n",
       "      <td>0.0</td>\n",
       "      <td>0.068773</td>\n",
       "      <td>0.012696</td>\n",
       "      <td>0.121856</td>\n",
       "      <td>0.0</td>\n",
       "      <td>0.01059</td>\n",
       "      <td>0.078514</td>\n",
       "      <td>0.000000</td>\n",
       "      <td>0.000000</td>\n",
       "      <td>0.000000</td>\n",
       "      <td>0.000459</td>\n",
       "      <td>...</td>\n",
       "      <td>0.0</td>\n",
       "      <td>0.0</td>\n",
       "      <td>0.000000</td>\n",
       "      <td>0.000000</td>\n",
       "      <td>0.0</td>\n",
       "      <td>0.003918</td>\n",
       "      <td>0.000000</td>\n",
       "      <td>0.0</td>\n",
       "      <td>0.005254</td>\n",
       "      <td>0.0</td>\n",
       "      <td>0.0</td>\n",
       "      <td>0.000000</td>\n",
       "      <td>0.000000</td>\n",
       "      <td>0.000000</td>\n",
       "      <td>0.00000</td>\n",
       "      <td>0.000000</td>\n",
       "      <td>0.000000</td>\n",
       "      <td>0.0</td>\n",
       "      <td>0.0</td>\n",
       "      <td>0.0</td>\n",
       "      <td>0.0</td>\n",
       "      <td>0.000000</td>\n",
       "      <td>0.0</td>\n",
       "      <td>0.0</td>\n",
       "      <td>0.000000</td>\n",
       "      <td>0.0516</td>\n",
       "      <td>0.0</td>\n",
       "      <td>0.028379</td>\n",
       "      <td>0.027660</td>\n",
       "      <td>0.0</td>\n",
       "      <td>0.0</td>\n",
       "      <td>0.035445</td>\n",
       "      <td>0.05432</td>\n",
       "      <td>0.020464</td>\n",
       "      <td>0.0</td>\n",
       "      <td>0.0</td>\n",
       "      <td>0.000000</td>\n",
       "      <td>0.10963</td>\n",
       "      <td>0.0</td>\n",
       "      <td>0.0</td>\n",
       "    </tr>\n",
       "    <tr>\n",
       "      <th>3</th>\n",
       "      <td>0.000000</td>\n",
       "      <td>0.031700</td>\n",
       "      <td>1.000000</td>\n",
       "      <td>0.004382</td>\n",
       "      <td>0.069432</td>\n",
       "      <td>0.011788</td>\n",
       "      <td>0.054688</td>\n",
       "      <td>0.060193</td>\n",
       "      <td>0.100534</td>\n",
       "      <td>0.011718</td>\n",
       "      <td>0.061175</td>\n",
       "      <td>0.000000</td>\n",
       "      <td>0.000000</td>\n",
       "      <td>0.00000</td>\n",
       "      <td>0.000000</td>\n",
       "      <td>0.050120</td>\n",
       "      <td>0.002268</td>\n",
       "      <td>0.020197</td>\n",
       "      <td>0.106894</td>\n",
       "      <td>0.056241</td>\n",
       "      <td>0.002759</td>\n",
       "      <td>0.021814</td>\n",
       "      <td>0.063946</td>\n",
       "      <td>0.073520</td>\n",
       "      <td>0.000000</td>\n",
       "      <td>0.024446</td>\n",
       "      <td>0.128107</td>\n",
       "      <td>0.009599</td>\n",
       "      <td>0.034253</td>\n",
       "      <td>0.0</td>\n",
       "      <td>0.057190</td>\n",
       "      <td>0.000000</td>\n",
       "      <td>0.033450</td>\n",
       "      <td>0.0</td>\n",
       "      <td>0.00000</td>\n",
       "      <td>0.000000</td>\n",
       "      <td>0.035462</td>\n",
       "      <td>0.032828</td>\n",
       "      <td>0.051138</td>\n",
       "      <td>0.000000</td>\n",
       "      <td>...</td>\n",
       "      <td>0.0</td>\n",
       "      <td>0.0</td>\n",
       "      <td>0.000000</td>\n",
       "      <td>0.000000</td>\n",
       "      <td>0.0</td>\n",
       "      <td>0.000000</td>\n",
       "      <td>0.034916</td>\n",
       "      <td>0.0</td>\n",
       "      <td>0.000000</td>\n",
       "      <td>0.0</td>\n",
       "      <td>0.0</td>\n",
       "      <td>0.000000</td>\n",
       "      <td>0.000000</td>\n",
       "      <td>0.034427</td>\n",
       "      <td>0.00000</td>\n",
       "      <td>0.000000</td>\n",
       "      <td>0.000000</td>\n",
       "      <td>0.0</td>\n",
       "      <td>0.0</td>\n",
       "      <td>0.0</td>\n",
       "      <td>0.0</td>\n",
       "      <td>0.000000</td>\n",
       "      <td>0.0</td>\n",
       "      <td>0.0</td>\n",
       "      <td>0.000000</td>\n",
       "      <td>0.0000</td>\n",
       "      <td>0.0</td>\n",
       "      <td>0.000000</td>\n",
       "      <td>0.000000</td>\n",
       "      <td>0.0</td>\n",
       "      <td>0.0</td>\n",
       "      <td>0.000000</td>\n",
       "      <td>0.00000</td>\n",
       "      <td>0.000000</td>\n",
       "      <td>0.0</td>\n",
       "      <td>0.0</td>\n",
       "      <td>0.000000</td>\n",
       "      <td>0.00000</td>\n",
       "      <td>0.0</td>\n",
       "      <td>0.0</td>\n",
       "    </tr>\n",
       "    <tr>\n",
       "      <th>4</th>\n",
       "      <td>0.004340</td>\n",
       "      <td>0.000000</td>\n",
       "      <td>0.004382</td>\n",
       "      <td>1.000000</td>\n",
       "      <td>0.038519</td>\n",
       "      <td>0.029985</td>\n",
       "      <td>0.019847</td>\n",
       "      <td>0.000000</td>\n",
       "      <td>0.067890</td>\n",
       "      <td>0.000000</td>\n",
       "      <td>0.000000</td>\n",
       "      <td>0.019552</td>\n",
       "      <td>0.000000</td>\n",
       "      <td>0.00000</td>\n",
       "      <td>0.094436</td>\n",
       "      <td>0.000000</td>\n",
       "      <td>0.007044</td>\n",
       "      <td>0.052955</td>\n",
       "      <td>0.000000</td>\n",
       "      <td>0.000000</td>\n",
       "      <td>0.000000</td>\n",
       "      <td>0.081803</td>\n",
       "      <td>0.009588</td>\n",
       "      <td>0.000000</td>\n",
       "      <td>0.000000</td>\n",
       "      <td>0.000000</td>\n",
       "      <td>0.000000</td>\n",
       "      <td>0.000000</td>\n",
       "      <td>0.000000</td>\n",
       "      <td>0.0</td>\n",
       "      <td>0.047059</td>\n",
       "      <td>0.000385</td>\n",
       "      <td>0.030021</td>\n",
       "      <td>0.0</td>\n",
       "      <td>0.00000</td>\n",
       "      <td>0.040589</td>\n",
       "      <td>0.000000</td>\n",
       "      <td>0.013528</td>\n",
       "      <td>0.000000</td>\n",
       "      <td>0.003085</td>\n",
       "      <td>...</td>\n",
       "      <td>0.0</td>\n",
       "      <td>0.0</td>\n",
       "      <td>0.000000</td>\n",
       "      <td>0.000000</td>\n",
       "      <td>0.0</td>\n",
       "      <td>0.000000</td>\n",
       "      <td>0.000000</td>\n",
       "      <td>0.0</td>\n",
       "      <td>0.000000</td>\n",
       "      <td>0.0</td>\n",
       "      <td>0.0</td>\n",
       "      <td>0.000000</td>\n",
       "      <td>0.000000</td>\n",
       "      <td>0.000000</td>\n",
       "      <td>0.00000</td>\n",
       "      <td>0.000000</td>\n",
       "      <td>0.000000</td>\n",
       "      <td>0.0</td>\n",
       "      <td>0.0</td>\n",
       "      <td>0.0</td>\n",
       "      <td>0.0</td>\n",
       "      <td>0.000000</td>\n",
       "      <td>0.0</td>\n",
       "      <td>0.0</td>\n",
       "      <td>0.389882</td>\n",
       "      <td>0.0000</td>\n",
       "      <td>0.0</td>\n",
       "      <td>0.000000</td>\n",
       "      <td>0.000000</td>\n",
       "      <td>0.0</td>\n",
       "      <td>0.0</td>\n",
       "      <td>0.000000</td>\n",
       "      <td>0.00000</td>\n",
       "      <td>0.000000</td>\n",
       "      <td>0.0</td>\n",
       "      <td>0.0</td>\n",
       "      <td>0.000000</td>\n",
       "      <td>0.00000</td>\n",
       "      <td>0.0</td>\n",
       "      <td>0.0</td>\n",
       "    </tr>\n",
       "    <tr>\n",
       "      <th>5</th>\n",
       "      <td>0.095113</td>\n",
       "      <td>0.060859</td>\n",
       "      <td>0.069432</td>\n",
       "      <td>0.038519</td>\n",
       "      <td>1.000000</td>\n",
       "      <td>0.063813</td>\n",
       "      <td>0.000000</td>\n",
       "      <td>0.000000</td>\n",
       "      <td>0.043664</td>\n",
       "      <td>0.091824</td>\n",
       "      <td>0.070592</td>\n",
       "      <td>0.000000</td>\n",
       "      <td>0.000000</td>\n",
       "      <td>0.00000</td>\n",
       "      <td>0.040252</td>\n",
       "      <td>0.053018</td>\n",
       "      <td>0.000000</td>\n",
       "      <td>0.000000</td>\n",
       "      <td>0.041148</td>\n",
       "      <td>0.000000</td>\n",
       "      <td>0.041346</td>\n",
       "      <td>0.000000</td>\n",
       "      <td>0.007879</td>\n",
       "      <td>0.000000</td>\n",
       "      <td>0.000000</td>\n",
       "      <td>0.069025</td>\n",
       "      <td>0.077936</td>\n",
       "      <td>0.009779</td>\n",
       "      <td>0.023431</td>\n",
       "      <td>0.0</td>\n",
       "      <td>0.065998</td>\n",
       "      <td>0.000000</td>\n",
       "      <td>0.039640</td>\n",
       "      <td>0.0</td>\n",
       "      <td>0.00000</td>\n",
       "      <td>0.020557</td>\n",
       "      <td>0.000000</td>\n",
       "      <td>0.000000</td>\n",
       "      <td>0.029413</td>\n",
       "      <td>0.000000</td>\n",
       "      <td>...</td>\n",
       "      <td>0.0</td>\n",
       "      <td>0.0</td>\n",
       "      <td>0.000000</td>\n",
       "      <td>0.000000</td>\n",
       "      <td>0.0</td>\n",
       "      <td>0.000000</td>\n",
       "      <td>0.000000</td>\n",
       "      <td>0.0</td>\n",
       "      <td>0.003768</td>\n",
       "      <td>0.0</td>\n",
       "      <td>0.0</td>\n",
       "      <td>0.000000</td>\n",
       "      <td>0.000000</td>\n",
       "      <td>0.000000</td>\n",
       "      <td>0.00000</td>\n",
       "      <td>0.000000</td>\n",
       "      <td>0.000000</td>\n",
       "      <td>0.0</td>\n",
       "      <td>0.0</td>\n",
       "      <td>0.0</td>\n",
       "      <td>0.0</td>\n",
       "      <td>0.000000</td>\n",
       "      <td>0.0</td>\n",
       "      <td>0.0</td>\n",
       "      <td>0.000000</td>\n",
       "      <td>0.0000</td>\n",
       "      <td>0.0</td>\n",
       "      <td>0.000000</td>\n",
       "      <td>0.000000</td>\n",
       "      <td>0.0</td>\n",
       "      <td>0.0</td>\n",
       "      <td>0.000000</td>\n",
       "      <td>0.00000</td>\n",
       "      <td>0.000000</td>\n",
       "      <td>0.0</td>\n",
       "      <td>0.0</td>\n",
       "      <td>0.000000</td>\n",
       "      <td>0.00000</td>\n",
       "      <td>0.0</td>\n",
       "      <td>0.0</td>\n",
       "    </tr>\n",
       "  </tbody>\n",
       "</table>\n",
       "<p>5 rows × 7783 columns</p>\n",
       "</div>"
      ],
      "text/plain": [
       "           1         2         3       ...   205383  206499  207309\n",
       "movieId                                ...                         \n",
       "1        1.000000  0.102915  0.000000  ...  0.00000     0.0     0.0\n",
       "2        0.102915  1.000000  0.031700  ...  0.10963     0.0     0.0\n",
       "3        0.000000  0.031700  1.000000  ...  0.00000     0.0     0.0\n",
       "4        0.004340  0.000000  0.004382  ...  0.00000     0.0     0.0\n",
       "5        0.095113  0.060859  0.069432  ...  0.00000     0.0     0.0\n",
       "\n",
       "[5 rows x 7783 columns]"
      ]
     },
     "execution_count": 135,
     "metadata": {
      "tags": []
     },
     "output_type": "execute_result"
    }
   ],
   "source": [
    "item_correlation_df_3.head()"
   ]
  },
  {
   "cell_type": "code",
   "execution_count": null,
   "metadata": {
    "colab": {
     "base_uri": "https://localhost:8080/"
    },
    "id": "8d2XAuXw2SgZ",
    "outputId": "d0450e69-3afd-425a-b608-76f41bc7f22f"
   },
   "outputs": [
    {
     "data": {
      "text/plain": [
       "array([[ 1.10153262, 12.83252349, 35.8647666 , ...,  9.1484491 ,\n",
       "         0.51093827,  9.15792271],\n",
       "       [ 0.39077366,  9.74879386, 22.62663044, ...,  7.05031014,\n",
       "         0.92552995,  6.28294116],\n",
       "       [ 0.11700293,  4.30626816,  8.2908921 , ...,  3.77831808,\n",
       "         0.26364204,  3.77408128],\n",
       "       ...,\n",
       "       [ 0.43354838,  3.97316391, 22.48683777, ...,  6.770097  ,\n",
       "         0.1689317 ,  4.1952958 ],\n",
       "       [ 0.        ,  0.        ,  0.        , ...,  0.        ,\n",
       "         0.        ,  0.        ],\n",
       "       [ 0.        ,  0.        ,  0.        , ...,  0.        ,\n",
       "         0.        ,  0.        ]])"
      ]
     },
     "execution_count": 136,
     "metadata": {
      "tags": []
     },
     "output_type": "execute_result"
    }
   ],
   "source": [
    "item_correlation_df_3[item_correlation_df_3<0]=0\n",
    "\n",
    "common_item_predicted_ratings = np.dot(item_correlation_df_3, common_item_based_matrix.fillna(0))\n",
    "common_item_predicted_ratings\n"
   ]
  },
  {
   "cell_type": "code",
   "execution_count": null,
   "metadata": {
    "colab": {
     "base_uri": "https://localhost:8080/"
    },
    "id": "-7SeXXO_bHfM",
    "outputId": "5ce66c7b-01c0-46da-d986-ade25900f769"
   },
   "outputs": [
    {
     "data": {
      "text/plain": [
       "(7783, 2071)"
      ]
     },
     "execution_count": 137,
     "metadata": {
      "tags": []
     },
     "output_type": "execute_result"
    }
   ],
   "source": [
    "common_item_predicted_ratings.shape"
   ]
  },
  {
   "cell_type": "markdown",
   "metadata": {
    "id": "ZA5m3_ZFe3-D"
   },
   "source": [
    "Dummy test will be used for evaluation. To evaluate, we will only make prediction on the movies rated by the user. So, this is marked as 1. This is just opposite of dummy_train\n",
    "\n"
   ]
  },
  {
   "cell_type": "code",
   "execution_count": null,
   "metadata": {
    "id": "hq4n5DKn2azL"
   },
   "outputs": [],
   "source": [
    "dummy_test = common.copy()\n",
    "\n",
    "dummy_test['rating'] = dummy_test['rating'].apply(lambda x: 1 if x>=1 else 0)\n",
    "\n",
    "dummy_test = dummy_test.pivot_table(index='userId', columns='movieId', values='rating').T.fillna(0)\n",
    "\n",
    "common_item_predicted_ratings = np.multiply(common_item_predicted_ratings,dummy_test)"
   ]
  },
  {
   "cell_type": "markdown",
   "metadata": {
    "id": "AJr9sueCe-pW"
   },
   "source": [
    "The products not rated is marked as 0 for evaluation. And make the item- item matrix representaion.\n"
   ]
  },
  {
   "cell_type": "code",
   "execution_count": null,
   "metadata": {
    "id": "Qd8zErT6H7PH"
   },
   "outputs": [],
   "source": [
    "common_ = common.pivot_table(index='userId', columns='movieId', values='rating').T"
   ]
  },
  {
   "cell_type": "code",
   "execution_count": null,
   "metadata": {
    "colab": {
     "base_uri": "https://localhost:8080/"
    },
    "id": "SbTJc6tmIm-d",
    "outputId": "7ce821f3-09f2-4f71-ed84-2c1e172a8438"
   },
   "outputs": [
    {
     "name": "stdout",
     "output_type": "stream",
     "text": [
      "MinMaxScaler(copy=True, feature_range=(1, 5))\n",
      "[[       nan        nan 2.52545034 ...        nan        nan        nan]\n",
      " [       nan        nan        nan ...        nan        nan        nan]\n",
      " [       nan        nan        nan ...        nan        nan        nan]\n",
      " ...\n",
      " [       nan        nan        nan ...        nan        nan        nan]\n",
      " [       nan        nan        nan ...        nan        nan        nan]\n",
      " [       nan        nan        nan ...        nan        nan        nan]]\n"
     ]
    }
   ],
   "source": [
    "from sklearn.preprocessing import MinMaxScaler\n",
    "from numpy import *\n",
    "\n",
    "X  = common_item_predicted_ratings.copy() \n",
    "X = X[X>0]\n",
    "\n",
    "scaler = MinMaxScaler(feature_range=(1, 5))\n",
    "print(scaler.fit(X))\n",
    "y = (scaler.transform(X))\n",
    "\n",
    "print(y)"
   ]
  },
  {
   "cell_type": "code",
   "execution_count": null,
   "metadata": {
    "id": "xLvB_o4lDvli"
   },
   "outputs": [],
   "source": [
    "# Finding total non-NaN value\n",
    "total_non_nan = np.count_nonzero(~np.isnan(y))"
   ]
  },
  {
   "cell_type": "code",
   "execution_count": null,
   "metadata": {
    "colab": {
     "base_uri": "https://localhost:8080/"
    },
    "id": "DEFC02uXIneM",
    "outputId": "cf7bb08f-eadc-4a12-87f1-834fcc631bed"
   },
   "outputs": [
    {
     "name": "stdout",
     "output_type": "stream",
     "text": [
      "1.3169197240439345\n"
     ]
    }
   ],
   "source": [
    "rmse = (sum(sum((common_ - y )**2))/total_non_nan)**0.5\n",
    "print(rmse)"
   ]
  },
  {
   "cell_type": "code",
   "execution_count": null,
   "metadata": {
    "id": "VKbvESVQiEWK"
   },
   "outputs": [],
   "source": []
  }
 ],
 "metadata": {
  "colab": {
   "collapsed_sections": [],
   "name": "Recommendation+System+Notebook.ipynb",
   "provenance": []
  },
  "kernelspec": {
   "display_name": "Python 3",
   "language": "python",
   "name": "python3"
  },
  "language_info": {
   "codemirror_mode": {
    "name": "ipython",
    "version": 3
   },
   "file_extension": ".py",
   "mimetype": "text/x-python",
   "name": "python",
   "nbconvert_exporter": "python",
   "pygments_lexer": "ipython3",
   "version": "3.8.5"
  }
 },
 "nbformat": 4,
 "nbformat_minor": 1
}
